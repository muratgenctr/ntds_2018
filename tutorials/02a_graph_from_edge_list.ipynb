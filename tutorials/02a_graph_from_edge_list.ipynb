{
 "cells": [
  {
   "cell_type": "markdown",
   "metadata": {},
   "source": [
    "# NTDS'18 tutorial 2: build a graph from an edge list\n",
    "[Benjamin Ricaud](https://people.epfl.ch/benjamin.ricaud), [EPFL LTS2](https://lts2.epfl.ch)\n",
    "\n",
    "* Dataset: [Open Tree of Life](https://tree.opentreeoflife.org)\n",
    "* Tools: [pandas](https://pandas.pydata.org), [numpy](http://www.numpy.org), [networkx](https://networkx.github.io), [gephi](https://gephi.org/)"
   ]
  },
  {
   "cell_type": "markdown",
   "metadata": {},
   "source": [
    "## Tools"
   ]
  },
  {
   "cell_type": "markdown",
   "metadata": {},
   "source": [
    "The below line is a [magic command](https://ipython.readthedocs.io/en/stable/interactive/magics.html) that allows plots to appear in the notebook."
   ]
  },
  {
   "cell_type": "code",
   "execution_count": 1,
   "metadata": {},
   "outputs": [],
   "source": [
    "%matplotlib inline"
   ]
  },
  {
   "cell_type": "markdown",
   "metadata": {},
   "source": [
    "The first thing is always to import the packages we'll use."
   ]
  },
  {
   "cell_type": "code",
   "execution_count": 2,
   "metadata": {},
   "outputs": [],
   "source": [
    "import pandas as pd\n",
    "import numpy as np\n",
    "import networkx as nx"
   ]
  },
  {
   "cell_type": "markdown",
   "metadata": {},
   "source": [
    "Tutorials on pandas can be found at:\n",
    "* <https://pandas.pydata.org/pandas-docs/stable/10min.html>\n",
    "* <https://pandas.pydata.org/pandas-docs/stable/tutorials.html>\n",
    "\n",
    "Tutorials on numpy can be found at:\n",
    "* <https://docs.scipy.org/doc/numpy/user/quickstart.html>\n",
    "* <http://www.scipy-lectures.org/intro/numpy/index.html>\n",
    "* <http://www.scipy-lectures.org/advanced/advanced_numpy/index.html>\n",
    "\n",
    "A tutorial on networkx can be found at:\n",
    "* <https://networkx.github.io/documentation/stable/tutorial.html>"
   ]
  },
  {
   "cell_type": "markdown",
   "metadata": {},
   "source": [
    "## Import the data\n",
    "\n",
    "We will play with a excerpt of the Tree of Life, that can be found together with this notebook. This dataset is reduced to the first 1000 taxons (starting from the root node). The full version is available here: [Open Tree of Life](https://tree.opentreeoflife.org/about/taxonomy-version/ott3.0).\n",
    "\n",
    "![Public domain, https://en.wikipedia.org/wiki/File:Phylogenetic_tree.svg](figures/phylogenetic_tree.png)\n",
    "![Public Domain, https://commons.wikimedia.org/w/index.php?curid=3633804](figures/tree_of_life.png)"
   ]
  },
  {
   "cell_type": "code",
   "execution_count": 3,
   "metadata": {},
   "outputs": [],
   "source": [
    "tree_of_life = pd.read_csv('data/taxonomy_small.tsv', sep='\\t\\|\\t?', encoding='utf-8', engine='python')"
   ]
  },
  {
   "cell_type": "markdown",
   "metadata": {},
   "source": [
    "If you do not remember the details of a function:"
   ]
  },
  {
   "cell_type": "code",
   "execution_count": 4,
   "metadata": {},
   "outputs": [],
   "source": [
    "pd.read_csv?"
   ]
  },
  {
   "cell_type": "markdown",
   "metadata": {},
   "source": [
    "For more info on the separator, see [regex](https://docs.python.org/3.6/library/re.html)."
   ]
  },
  {
   "cell_type": "markdown",
   "metadata": {},
   "source": [
    "Now, what is the object `tree_of_life`? It is a Pandas DataFrame."
   ]
  },
  {
   "cell_type": "code",
   "execution_count": 5,
   "metadata": {},
   "outputs": [
    {
     "data": {
      "text/html": [
       "<div>\n",
       "<style scoped>\n",
       "    .dataframe tbody tr th:only-of-type {\n",
       "        vertical-align: middle;\n",
       "    }\n",
       "\n",
       "    .dataframe tbody tr th {\n",
       "        vertical-align: top;\n",
       "    }\n",
       "\n",
       "    .dataframe thead th {\n",
       "        text-align: right;\n",
       "    }\n",
       "</style>\n",
       "<table border=\"1\" class=\"dataframe\">\n",
       "  <thead>\n",
       "    <tr style=\"text-align: right;\">\n",
       "      <th></th>\n",
       "      <th>uid</th>\n",
       "      <th>parent_uid</th>\n",
       "      <th>name</th>\n",
       "      <th>rank</th>\n",
       "      <th>sourceinfo</th>\n",
       "      <th>uniqname</th>\n",
       "      <th>flags</th>\n",
       "      <th>Unnamed: 7</th>\n",
       "    </tr>\n",
       "  </thead>\n",
       "  <tbody>\n",
       "    <tr>\n",
       "      <th>0</th>\n",
       "      <td>805080</td>\n",
       "      <td>NaN</td>\n",
       "      <td>life</td>\n",
       "      <td>no rank</td>\n",
       "      <td>silva:0,ncbi:1,worms:1,gbif:0,irmng:0</td>\n",
       "      <td>NaN</td>\n",
       "      <td>NaN</td>\n",
       "      <td>NaN</td>\n",
       "    </tr>\n",
       "    <tr>\n",
       "      <th>1</th>\n",
       "      <td>93302</td>\n",
       "      <td>805080.0</td>\n",
       "      <td>cellular organisms</td>\n",
       "      <td>no rank</td>\n",
       "      <td>ncbi:131567</td>\n",
       "      <td>NaN</td>\n",
       "      <td>NaN</td>\n",
       "      <td>NaN</td>\n",
       "    </tr>\n",
       "    <tr>\n",
       "      <th>2</th>\n",
       "      <td>996421</td>\n",
       "      <td>93302.0</td>\n",
       "      <td>Archaea</td>\n",
       "      <td>domain</td>\n",
       "      <td>silva:D37982/#1,ncbi:2157,worms:8,gbif:2,irmng:12</td>\n",
       "      <td>Archaea (domain silva:D37982/#1)</td>\n",
       "      <td>NaN</td>\n",
       "      <td>NaN</td>\n",
       "    </tr>\n",
       "    <tr>\n",
       "      <th>3</th>\n",
       "      <td>5246114</td>\n",
       "      <td>996421.0</td>\n",
       "      <td>Marine Hydrothermal Vent Group 1(MHVG-1)</td>\n",
       "      <td>no rank - terminal</td>\n",
       "      <td>silva:AB302039/#2</td>\n",
       "      <td>NaN</td>\n",
       "      <td>NaN</td>\n",
       "      <td>NaN</td>\n",
       "    </tr>\n",
       "    <tr>\n",
       "      <th>4</th>\n",
       "      <td>102415</td>\n",
       "      <td>996421.0</td>\n",
       "      <td>Thaumarchaeota</td>\n",
       "      <td>phylum</td>\n",
       "      <td>silva:D87348/#2,ncbi:651137,worms:559429,irmng...</td>\n",
       "      <td>NaN</td>\n",
       "      <td>NaN</td>\n",
       "      <td>NaN</td>\n",
       "    </tr>\n",
       "    <tr>\n",
       "      <th>5</th>\n",
       "      <td>5246628</td>\n",
       "      <td>102415.0</td>\n",
       "      <td>terrestrial group</td>\n",
       "      <td>no rank - terminal</td>\n",
       "      <td>silva:AB600373/#3</td>\n",
       "      <td>NaN</td>\n",
       "      <td>NaN</td>\n",
       "      <td>NaN</td>\n",
       "    </tr>\n",
       "    <tr>\n",
       "      <th>6</th>\n",
       "      <td>4795965</td>\n",
       "      <td>102415.0</td>\n",
       "      <td>Marine Group I</td>\n",
       "      <td>no rank</td>\n",
       "      <td>silva:D87348/#3,ncbi:905826</td>\n",
       "      <td>NaN</td>\n",
       "      <td>NaN</td>\n",
       "      <td>NaN</td>\n",
       "    </tr>\n",
       "    <tr>\n",
       "      <th>7</th>\n",
       "      <td>5205649</td>\n",
       "      <td>4795965.0</td>\n",
       "      <td>uncultured marine crenarchaeote 'Gulf of Maine'</td>\n",
       "      <td>species</td>\n",
       "      <td>silva:AGBE01001967,ncbi:1089683</td>\n",
       "      <td>NaN</td>\n",
       "      <td>sibling_higher</td>\n",
       "      <td>NaN</td>\n",
       "    </tr>\n",
       "    <tr>\n",
       "      <th>8</th>\n",
       "      <td>5208050</td>\n",
       "      <td>4795965.0</td>\n",
       "      <td>uncultured marine archaeon DCM858</td>\n",
       "      <td>species</td>\n",
       "      <td>silva:AF121992,ncbi:105567</td>\n",
       "      <td>NaN</td>\n",
       "      <td>sibling_higher</td>\n",
       "      <td>NaN</td>\n",
       "    </tr>\n",
       "    <tr>\n",
       "      <th>9</th>\n",
       "      <td>5205092</td>\n",
       "      <td>4795965.0</td>\n",
       "      <td>uncultured marine group I thaumarchaeote</td>\n",
       "      <td>species</td>\n",
       "      <td>silva:JF715361,ncbi:360837</td>\n",
       "      <td>NaN</td>\n",
       "      <td>sibling_higher</td>\n",
       "      <td>NaN</td>\n",
       "    </tr>\n",
       "    <tr>\n",
       "      <th>10</th>\n",
       "      <td>5205072</td>\n",
       "      <td>4795965.0</td>\n",
       "      <td>uncultured Nitrosopumilaceae archaeon</td>\n",
       "      <td>species</td>\n",
       "      <td>silva:JN591993,ncbi:1118069</td>\n",
       "      <td>NaN</td>\n",
       "      <td>sibling_higher</td>\n",
       "      <td>NaN</td>\n",
       "    </tr>\n",
       "    <tr>\n",
       "      <th>11</th>\n",
       "      <td>5208765</td>\n",
       "      <td>4795965.0</td>\n",
       "      <td>uncultured marine archaeon DCM874</td>\n",
       "      <td>species</td>\n",
       "      <td>silva:AF122001,ncbi:105576</td>\n",
       "      <td>NaN</td>\n",
       "      <td>sibling_higher</td>\n",
       "      <td>NaN</td>\n",
       "    </tr>\n",
       "    <tr>\n",
       "      <th>12</th>\n",
       "      <td>179705</td>\n",
       "      <td>4795965.0</td>\n",
       "      <td>Cenarchaeales</td>\n",
       "      <td>order</td>\n",
       "      <td>silva:AY192631/#4,ncbi:205948,worms:573555,irm...</td>\n",
       "      <td>NaN</td>\n",
       "      <td>NaN</td>\n",
       "      <td>NaN</td>\n",
       "    </tr>\n",
       "    <tr>\n",
       "      <th>13</th>\n",
       "      <td>189165</td>\n",
       "      <td>179705.0</td>\n",
       "      <td>Cenarchaeaceae</td>\n",
       "      <td>family</td>\n",
       "      <td>silva:AY192631/#5,ncbi:205957,worms:573556,gbi...</td>\n",
       "      <td>NaN</td>\n",
       "      <td>NaN</td>\n",
       "      <td>NaN</td>\n",
       "    </tr>\n",
       "    <tr>\n",
       "      <th>14</th>\n",
       "      <td>888219</td>\n",
       "      <td>189165.0</td>\n",
       "      <td>Cenarchaeum</td>\n",
       "      <td>genus</td>\n",
       "      <td>silva:AY192631/#6,ncbi:46769,worms:573557,gbif...</td>\n",
       "      <td>NaN</td>\n",
       "      <td>NaN</td>\n",
       "      <td>NaN</td>\n",
       "    </tr>\n",
       "    <tr>\n",
       "      <th>15</th>\n",
       "      <td>5207306</td>\n",
       "      <td>888219.0</td>\n",
       "      <td>Thermoplasmatales archaeon Gpl</td>\n",
       "      <td>species</td>\n",
       "      <td>silva:JN881616,ncbi:261391</td>\n",
       "      <td>NaN</td>\n",
       "      <td>NaN</td>\n",
       "      <td>NaN</td>\n",
       "    </tr>\n",
       "    <tr>\n",
       "      <th>16</th>\n",
       "      <td>376618</td>\n",
       "      <td>888219.0</td>\n",
       "      <td>Cenarchaeum symbiosum A</td>\n",
       "      <td>no rank - terminal</td>\n",
       "      <td>silva:DQ397549,ncbi:414004</td>\n",
       "      <td>NaN</td>\n",
       "      <td>NaN</td>\n",
       "      <td>NaN</td>\n",
       "    </tr>\n",
       "    <tr>\n",
       "      <th>17</th>\n",
       "      <td>4796244</td>\n",
       "      <td>888219.0</td>\n",
       "      <td>crenarchaeote symbiont of Axinella sp.</td>\n",
       "      <td>species</td>\n",
       "      <td>silva:AF421159,ncbi:173517</td>\n",
       "      <td>NaN</td>\n",
       "      <td>NaN</td>\n",
       "      <td>NaN</td>\n",
       "    </tr>\n",
       "    <tr>\n",
       "      <th>18</th>\n",
       "      <td>4796252</td>\n",
       "      <td>888219.0</td>\n",
       "      <td>crenarchaeote symbiont of Axinella verrucosa</td>\n",
       "      <td>species</td>\n",
       "      <td>silva:AF420237,ncbi:171716</td>\n",
       "      <td>NaN</td>\n",
       "      <td>NaN</td>\n",
       "      <td>NaN</td>\n",
       "    </tr>\n",
       "    <tr>\n",
       "      <th>19</th>\n",
       "      <td>5204995</td>\n",
       "      <td>888219.0</td>\n",
       "      <td>uncultured Cenarchaeaceae thaumarchaeote</td>\n",
       "      <td>species</td>\n",
       "      <td>silva:DQ299278,ncbi:375545</td>\n",
       "      <td>NaN</td>\n",
       "      <td>NaN</td>\n",
       "      <td>NaN</td>\n",
       "    </tr>\n",
       "    <tr>\n",
       "      <th>20</th>\n",
       "      <td>363497</td>\n",
       "      <td>888219.0</td>\n",
       "      <td>Cenarchaeum symbiosum</td>\n",
       "      <td>species</td>\n",
       "      <td>silva:AF083072,ncbi:46770,worms:573558,gbif:59...</td>\n",
       "      <td>NaN</td>\n",
       "      <td>NaN</td>\n",
       "      <td>NaN</td>\n",
       "    </tr>\n",
       "    <tr>\n",
       "      <th>21</th>\n",
       "      <td>376617</td>\n",
       "      <td>363497.0</td>\n",
       "      <td>Cenarchaeum symbiosum B</td>\n",
       "      <td>no rank - terminal</td>\n",
       "      <td>ncbi:414005</td>\n",
       "      <td>NaN</td>\n",
       "      <td>infraspecific</td>\n",
       "      <td>NaN</td>\n",
       "    </tr>\n",
       "    <tr>\n",
       "      <th>22</th>\n",
       "      <td>5204996</td>\n",
       "      <td>888219.0</td>\n",
       "      <td>Cenarchaeum environmental samples</td>\n",
       "      <td>no rank - terminal</td>\n",
       "      <td>ncbi:355925</td>\n",
       "      <td>NaN</td>\n",
       "      <td>was_container</td>\n",
       "      <td>NaN</td>\n",
       "    </tr>\n",
       "    <tr>\n",
       "      <th>23</th>\n",
       "      <td>5204994</td>\n",
       "      <td>189165.0</td>\n",
       "      <td>Cenarchaeaceae environmental samples</td>\n",
       "      <td>no rank - terminal</td>\n",
       "      <td>ncbi:375544</td>\n",
       "      <td>NaN</td>\n",
       "      <td>was_container</td>\n",
       "      <td>NaN</td>\n",
       "    </tr>\n",
       "    <tr>\n",
       "      <th>24</th>\n",
       "      <td>5204998</td>\n",
       "      <td>179705.0</td>\n",
       "      <td>Cenarchaeales environmental samples</td>\n",
       "      <td>no rank - terminal</td>\n",
       "      <td>ncbi:260466</td>\n",
       "      <td>NaN</td>\n",
       "      <td>was_container</td>\n",
       "      <td>NaN</td>\n",
       "    </tr>\n",
       "    <tr>\n",
       "      <th>25</th>\n",
       "      <td>5204999</td>\n",
       "      <td>179705.0</td>\n",
       "      <td>uncultured Cenarchaeales thaumarchaeote</td>\n",
       "      <td>species</td>\n",
       "      <td>ncbi:260467</td>\n",
       "      <td>NaN</td>\n",
       "      <td>sibling_higher,not_otu</td>\n",
       "      <td>NaN</td>\n",
       "    </tr>\n",
       "    <tr>\n",
       "      <th>26</th>\n",
       "      <td>5205398</td>\n",
       "      <td>4795965.0</td>\n",
       "      <td>uncultured crenarchaeote ODPB-A18</td>\n",
       "      <td>species</td>\n",
       "      <td>silva:AF121098,ncbi:95930</td>\n",
       "      <td>NaN</td>\n",
       "      <td>sibling_higher</td>\n",
       "      <td>NaN</td>\n",
       "    </tr>\n",
       "    <tr>\n",
       "      <th>27</th>\n",
       "      <td>5205625</td>\n",
       "      <td>4795965.0</td>\n",
       "      <td>uncultured crenarchaeote ODPB-A3</td>\n",
       "      <td>species</td>\n",
       "      <td>silva:AF121093,ncbi:95925</td>\n",
       "      <td>NaN</td>\n",
       "      <td>sibling_higher</td>\n",
       "      <td>NaN</td>\n",
       "    </tr>\n",
       "    <tr>\n",
       "      <th>28</th>\n",
       "      <td>5205019</td>\n",
       "      <td>4795965.0</td>\n",
       "      <td>uncultured marine crenarchaeote KM3-86-C1</td>\n",
       "      <td>species</td>\n",
       "      <td>silva:EU686625,ncbi:526685</td>\n",
       "      <td>NaN</td>\n",
       "      <td>sibling_higher</td>\n",
       "      <td>NaN</td>\n",
       "    </tr>\n",
       "    <tr>\n",
       "      <th>29</th>\n",
       "      <td>5205058</td>\n",
       "      <td>4795965.0</td>\n",
       "      <td>uncultured Nitrosopumilales archaeon</td>\n",
       "      <td>species</td>\n",
       "      <td>silva:EF069380,ncbi:171534</td>\n",
       "      <td>NaN</td>\n",
       "      <td>sibling_higher</td>\n",
       "      <td>NaN</td>\n",
       "    </tr>\n",
       "    <tr>\n",
       "      <th>...</th>\n",
       "      <td>...</td>\n",
       "      <td>...</td>\n",
       "      <td>...</td>\n",
       "      <td>...</td>\n",
       "      <td>...</td>\n",
       "      <td>...</td>\n",
       "      <td>...</td>\n",
       "      <td>...</td>\n",
       "    </tr>\n",
       "    <tr>\n",
       "      <th>969</th>\n",
       "      <td>5205123</td>\n",
       "      <td>102415.0</td>\n",
       "      <td>thaumarchaeote enrichment culture clone Ec.FBa...</td>\n",
       "      <td>species</td>\n",
       "      <td>ncbi:1238031</td>\n",
       "      <td>NaN</td>\n",
       "      <td>environmental</td>\n",
       "      <td>NaN</td>\n",
       "    </tr>\n",
       "    <tr>\n",
       "      <th>970</th>\n",
       "      <td>5205150</td>\n",
       "      <td>102415.0</td>\n",
       "      <td>thaumarchaeote enrichment culture clone Ec.FBa...</td>\n",
       "      <td>species</td>\n",
       "      <td>ncbi:1237975</td>\n",
       "      <td>NaN</td>\n",
       "      <td>environmental</td>\n",
       "      <td>NaN</td>\n",
       "    </tr>\n",
       "    <tr>\n",
       "      <th>971</th>\n",
       "      <td>5571747</td>\n",
       "      <td>102415.0</td>\n",
       "      <td>uncultured marine thaumarchaeote KM3_158_B05</td>\n",
       "      <td>species</td>\n",
       "      <td>ncbi:1456024</td>\n",
       "      <td>NaN</td>\n",
       "      <td>environmental,not_otu</td>\n",
       "      <td>NaN</td>\n",
       "    </tr>\n",
       "    <tr>\n",
       "      <th>972</th>\n",
       "      <td>5571649</td>\n",
       "      <td>102415.0</td>\n",
       "      <td>uncultured marine thaumarchaeote KM3_84_D12</td>\n",
       "      <td>species</td>\n",
       "      <td>ncbi:1456311</td>\n",
       "      <td>NaN</td>\n",
       "      <td>environmental,not_otu</td>\n",
       "      <td>NaN</td>\n",
       "    </tr>\n",
       "    <tr>\n",
       "      <th>973</th>\n",
       "      <td>5572006</td>\n",
       "      <td>102415.0</td>\n",
       "      <td>uncultured marine thaumarchaeote AD1000_60_A11</td>\n",
       "      <td>species</td>\n",
       "      <td>ncbi:1455927</td>\n",
       "      <td>NaN</td>\n",
       "      <td>environmental,not_otu</td>\n",
       "      <td>NaN</td>\n",
       "    </tr>\n",
       "    <tr>\n",
       "      <th>974</th>\n",
       "      <td>5205251</td>\n",
       "      <td>102415.0</td>\n",
       "      <td>thaumarchaeote enrichment culture clone Ec.FBa...</td>\n",
       "      <td>species</td>\n",
       "      <td>ncbi:1237979</td>\n",
       "      <td>NaN</td>\n",
       "      <td>environmental</td>\n",
       "      <td>NaN</td>\n",
       "    </tr>\n",
       "    <tr>\n",
       "      <th>975</th>\n",
       "      <td>5571794</td>\n",
       "      <td>102415.0</td>\n",
       "      <td>uncultured marine thaumarchaeote KM3_201_H03</td>\n",
       "      <td>species</td>\n",
       "      <td>ncbi:1456096</td>\n",
       "      <td>NaN</td>\n",
       "      <td>environmental,not_otu</td>\n",
       "      <td>NaN</td>\n",
       "    </tr>\n",
       "    <tr>\n",
       "      <th>976</th>\n",
       "      <td>5571869</td>\n",
       "      <td>102415.0</td>\n",
       "      <td>uncultured marine thaumarchaeote KM3_82_D05</td>\n",
       "      <td>species</td>\n",
       "      <td>ncbi:1456304</td>\n",
       "      <td>NaN</td>\n",
       "      <td>environmental,not_otu</td>\n",
       "      <td>NaN</td>\n",
       "    </tr>\n",
       "    <tr>\n",
       "      <th>977</th>\n",
       "      <td>5571712</td>\n",
       "      <td>102415.0</td>\n",
       "      <td>uncultured marine thaumarchaeote AD1000_24_H07</td>\n",
       "      <td>species</td>\n",
       "      <td>ncbi:1455902</td>\n",
       "      <td>NaN</td>\n",
       "      <td>environmental,not_otu</td>\n",
       "      <td>NaN</td>\n",
       "    </tr>\n",
       "    <tr>\n",
       "      <th>978</th>\n",
       "      <td>5571961</td>\n",
       "      <td>102415.0</td>\n",
       "      <td>uncultured marine thaumarchaeote KM3_75_F06</td>\n",
       "      <td>species</td>\n",
       "      <td>ncbi:1456280</td>\n",
       "      <td>NaN</td>\n",
       "      <td>environmental,not_otu</td>\n",
       "      <td>NaN</td>\n",
       "    </tr>\n",
       "    <tr>\n",
       "      <th>979</th>\n",
       "      <td>5571926</td>\n",
       "      <td>102415.0</td>\n",
       "      <td>uncultured marine thaumarchaeote KM3_71_E12</td>\n",
       "      <td>species</td>\n",
       "      <td>ncbi:1456258</td>\n",
       "      <td>NaN</td>\n",
       "      <td>environmental,not_otu</td>\n",
       "      <td>NaN</td>\n",
       "    </tr>\n",
       "    <tr>\n",
       "      <th>980</th>\n",
       "      <td>5205222</td>\n",
       "      <td>102415.0</td>\n",
       "      <td>thaumarchaeote enrichment culture clone Ec.MTa...</td>\n",
       "      <td>species</td>\n",
       "      <td>ncbi:1238100</td>\n",
       "      <td>NaN</td>\n",
       "      <td>environmental</td>\n",
       "      <td>NaN</td>\n",
       "    </tr>\n",
       "    <tr>\n",
       "      <th>981</th>\n",
       "      <td>5571900</td>\n",
       "      <td>102415.0</td>\n",
       "      <td>uncultured marine thaumarchaeote KM3_06_B06</td>\n",
       "      <td>species</td>\n",
       "      <td>ncbi:1455974</td>\n",
       "      <td>NaN</td>\n",
       "      <td>environmental,not_otu</td>\n",
       "      <td>NaN</td>\n",
       "    </tr>\n",
       "    <tr>\n",
       "      <th>982</th>\n",
       "      <td>5205166</td>\n",
       "      <td>102415.0</td>\n",
       "      <td>thaumarchaeote enrichment culture clone Ec.FBb...</td>\n",
       "      <td>species</td>\n",
       "      <td>ncbi:1238069</td>\n",
       "      <td>NaN</td>\n",
       "      <td>environmental</td>\n",
       "      <td>NaN</td>\n",
       "    </tr>\n",
       "    <tr>\n",
       "      <th>983</th>\n",
       "      <td>5571740</td>\n",
       "      <td>102415.0</td>\n",
       "      <td>uncultured marine thaumarchaeote KM3_193_A03</td>\n",
       "      <td>species</td>\n",
       "      <td>ncbi:1456081</td>\n",
       "      <td>NaN</td>\n",
       "      <td>environmental,not_otu</td>\n",
       "      <td>NaN</td>\n",
       "    </tr>\n",
       "    <tr>\n",
       "      <th>984</th>\n",
       "      <td>5205235</td>\n",
       "      <td>102415.0</td>\n",
       "      <td>thaumarchaeote enrichment culture clone Ec.MTa...</td>\n",
       "      <td>species</td>\n",
       "      <td>ncbi:1238126</td>\n",
       "      <td>NaN</td>\n",
       "      <td>environmental</td>\n",
       "      <td>NaN</td>\n",
       "    </tr>\n",
       "    <tr>\n",
       "      <th>985</th>\n",
       "      <td>5571679</td>\n",
       "      <td>102415.0</td>\n",
       "      <td>uncultured marine thaumarchaeote KM3_23_E01</td>\n",
       "      <td>species</td>\n",
       "      <td>ncbi:1456099</td>\n",
       "      <td>NaN</td>\n",
       "      <td>environmental,not_otu</td>\n",
       "      <td>NaN</td>\n",
       "    </tr>\n",
       "    <tr>\n",
       "      <th>986</th>\n",
       "      <td>5571865</td>\n",
       "      <td>102415.0</td>\n",
       "      <td>uncultured marine thaumarchaeote SAT1000_48_A08</td>\n",
       "      <td>species</td>\n",
       "      <td>ncbi:1456414</td>\n",
       "      <td>NaN</td>\n",
       "      <td>environmental,not_otu</td>\n",
       "      <td>NaN</td>\n",
       "    </tr>\n",
       "    <tr>\n",
       "      <th>987</th>\n",
       "      <td>5571850</td>\n",
       "      <td>102415.0</td>\n",
       "      <td>uncultured marine thaumarchaeote SAT1000_10_G06</td>\n",
       "      <td>species</td>\n",
       "      <td>ncbi:1456374</td>\n",
       "      <td>NaN</td>\n",
       "      <td>environmental,not_otu</td>\n",
       "      <td>NaN</td>\n",
       "    </tr>\n",
       "    <tr>\n",
       "      <th>988</th>\n",
       "      <td>5571611</td>\n",
       "      <td>102415.0</td>\n",
       "      <td>uncultured marine thaumarchaeote AD1000_26_G12</td>\n",
       "      <td>species</td>\n",
       "      <td>ncbi:1455904</td>\n",
       "      <td>NaN</td>\n",
       "      <td>environmental,not_otu</td>\n",
       "      <td>NaN</td>\n",
       "    </tr>\n",
       "    <tr>\n",
       "      <th>989</th>\n",
       "      <td>5572016</td>\n",
       "      <td>102415.0</td>\n",
       "      <td>uncultured marine thaumarchaeote KM3_65_D04</td>\n",
       "      <td>species</td>\n",
       "      <td>ncbi:1456224</td>\n",
       "      <td>NaN</td>\n",
       "      <td>environmental,not_otu</td>\n",
       "      <td>NaN</td>\n",
       "    </tr>\n",
       "    <tr>\n",
       "      <th>990</th>\n",
       "      <td>5571969</td>\n",
       "      <td>102415.0</td>\n",
       "      <td>uncultured marine thaumarchaeote KM3_186_C08</td>\n",
       "      <td>species</td>\n",
       "      <td>ncbi:1456070</td>\n",
       "      <td>NaN</td>\n",
       "      <td>environmental,not_otu</td>\n",
       "      <td>NaN</td>\n",
       "    </tr>\n",
       "    <tr>\n",
       "      <th>991</th>\n",
       "      <td>5571667</td>\n",
       "      <td>102415.0</td>\n",
       "      <td>uncultured marine thaumarchaeote KM3_41_H02</td>\n",
       "      <td>species</td>\n",
       "      <td>ncbi:1456146</td>\n",
       "      <td>NaN</td>\n",
       "      <td>environmental,not_otu</td>\n",
       "      <td>NaN</td>\n",
       "    </tr>\n",
       "    <tr>\n",
       "      <th>992</th>\n",
       "      <td>5571890</td>\n",
       "      <td>102415.0</td>\n",
       "      <td>uncultured marine thaumarchaeote KM3_52_F05</td>\n",
       "      <td>species</td>\n",
       "      <td>ncbi:1456177</td>\n",
       "      <td>NaN</td>\n",
       "      <td>environmental,not_otu</td>\n",
       "      <td>NaN</td>\n",
       "    </tr>\n",
       "    <tr>\n",
       "      <th>993</th>\n",
       "      <td>5571807</td>\n",
       "      <td>102415.0</td>\n",
       "      <td>uncultured marine thaumarchaeote AD1000_54_F09</td>\n",
       "      <td>species</td>\n",
       "      <td>ncbi:1455926</td>\n",
       "      <td>NaN</td>\n",
       "      <td>environmental,not_otu</td>\n",
       "      <td>NaN</td>\n",
       "    </tr>\n",
       "    <tr>\n",
       "      <th>994</th>\n",
       "      <td>5571591</td>\n",
       "      <td>102415.0</td>\n",
       "      <td>uncultured marine thaumarchaeote KM3_175_A05</td>\n",
       "      <td>species</td>\n",
       "      <td>ncbi:1456051</td>\n",
       "      <td>NaN</td>\n",
       "      <td>environmental,not_otu</td>\n",
       "      <td>NaN</td>\n",
       "    </tr>\n",
       "    <tr>\n",
       "      <th>995</th>\n",
       "      <td>5571756</td>\n",
       "      <td>102415.0</td>\n",
       "      <td>uncultured marine thaumarchaeote KM3_46_E07</td>\n",
       "      <td>species</td>\n",
       "      <td>ncbi:1456159</td>\n",
       "      <td>NaN</td>\n",
       "      <td>environmental,not_otu</td>\n",
       "      <td>NaN</td>\n",
       "    </tr>\n",
       "    <tr>\n",
       "      <th>996</th>\n",
       "      <td>5571888</td>\n",
       "      <td>102415.0</td>\n",
       "      <td>uncultured marine thaumarchaeote KM3_02_A10</td>\n",
       "      <td>species</td>\n",
       "      <td>ncbi:1455955</td>\n",
       "      <td>NaN</td>\n",
       "      <td>environmental,not_otu</td>\n",
       "      <td>NaN</td>\n",
       "    </tr>\n",
       "    <tr>\n",
       "      <th>997</th>\n",
       "      <td>5205131</td>\n",
       "      <td>102415.0</td>\n",
       "      <td>thaumarchaeote enrichment culture clone Ec.FBa...</td>\n",
       "      <td>species</td>\n",
       "      <td>ncbi:1238015</td>\n",
       "      <td>NaN</td>\n",
       "      <td>environmental</td>\n",
       "      <td>NaN</td>\n",
       "    </tr>\n",
       "    <tr>\n",
       "      <th>998</th>\n",
       "      <td>5572032</td>\n",
       "      <td>102415.0</td>\n",
       "      <td>uncultured marine thaumarchaeote KM3_53_B02</td>\n",
       "      <td>species</td>\n",
       "      <td>ncbi:1456180</td>\n",
       "      <td>NaN</td>\n",
       "      <td>environmental,not_otu</td>\n",
       "      <td>NaN</td>\n",
       "    </tr>\n",
       "  </tbody>\n",
       "</table>\n",
       "<p>999 rows × 8 columns</p>\n",
       "</div>"
      ],
      "text/plain": [
       "         uid  parent_uid                                               name  \\\n",
       "0     805080         NaN                                               life   \n",
       "1      93302    805080.0                                 cellular organisms   \n",
       "2     996421     93302.0                                            Archaea   \n",
       "3    5246114    996421.0           Marine Hydrothermal Vent Group 1(MHVG-1)   \n",
       "4     102415    996421.0                                     Thaumarchaeota   \n",
       "5    5246628    102415.0                                  terrestrial group   \n",
       "6    4795965    102415.0                                     Marine Group I   \n",
       "7    5205649   4795965.0    uncultured marine crenarchaeote 'Gulf of Maine'   \n",
       "8    5208050   4795965.0                  uncultured marine archaeon DCM858   \n",
       "9    5205092   4795965.0           uncultured marine group I thaumarchaeote   \n",
       "10   5205072   4795965.0              uncultured Nitrosopumilaceae archaeon   \n",
       "11   5208765   4795965.0                  uncultured marine archaeon DCM874   \n",
       "12    179705   4795965.0                                      Cenarchaeales   \n",
       "13    189165    179705.0                                     Cenarchaeaceae   \n",
       "14    888219    189165.0                                        Cenarchaeum   \n",
       "15   5207306    888219.0                     Thermoplasmatales archaeon Gpl   \n",
       "16    376618    888219.0                            Cenarchaeum symbiosum A   \n",
       "17   4796244    888219.0             crenarchaeote symbiont of Axinella sp.   \n",
       "18   4796252    888219.0       crenarchaeote symbiont of Axinella verrucosa   \n",
       "19   5204995    888219.0           uncultured Cenarchaeaceae thaumarchaeote   \n",
       "20    363497    888219.0                              Cenarchaeum symbiosum   \n",
       "21    376617    363497.0                            Cenarchaeum symbiosum B   \n",
       "22   5204996    888219.0                  Cenarchaeum environmental samples   \n",
       "23   5204994    189165.0               Cenarchaeaceae environmental samples   \n",
       "24   5204998    179705.0                Cenarchaeales environmental samples   \n",
       "25   5204999    179705.0            uncultured Cenarchaeales thaumarchaeote   \n",
       "26   5205398   4795965.0                  uncultured crenarchaeote ODPB-A18   \n",
       "27   5205625   4795965.0                   uncultured crenarchaeote ODPB-A3   \n",
       "28   5205019   4795965.0          uncultured marine crenarchaeote KM3-86-C1   \n",
       "29   5205058   4795965.0               uncultured Nitrosopumilales archaeon   \n",
       "..       ...         ...                                                ...   \n",
       "969  5205123    102415.0  thaumarchaeote enrichment culture clone Ec.FBa...   \n",
       "970  5205150    102415.0  thaumarchaeote enrichment culture clone Ec.FBa...   \n",
       "971  5571747    102415.0       uncultured marine thaumarchaeote KM3_158_B05   \n",
       "972  5571649    102415.0        uncultured marine thaumarchaeote KM3_84_D12   \n",
       "973  5572006    102415.0     uncultured marine thaumarchaeote AD1000_60_A11   \n",
       "974  5205251    102415.0  thaumarchaeote enrichment culture clone Ec.FBa...   \n",
       "975  5571794    102415.0       uncultured marine thaumarchaeote KM3_201_H03   \n",
       "976  5571869    102415.0        uncultured marine thaumarchaeote KM3_82_D05   \n",
       "977  5571712    102415.0     uncultured marine thaumarchaeote AD1000_24_H07   \n",
       "978  5571961    102415.0        uncultured marine thaumarchaeote KM3_75_F06   \n",
       "979  5571926    102415.0        uncultured marine thaumarchaeote KM3_71_E12   \n",
       "980  5205222    102415.0  thaumarchaeote enrichment culture clone Ec.MTa...   \n",
       "981  5571900    102415.0        uncultured marine thaumarchaeote KM3_06_B06   \n",
       "982  5205166    102415.0  thaumarchaeote enrichment culture clone Ec.FBb...   \n",
       "983  5571740    102415.0       uncultured marine thaumarchaeote KM3_193_A03   \n",
       "984  5205235    102415.0  thaumarchaeote enrichment culture clone Ec.MTa...   \n",
       "985  5571679    102415.0        uncultured marine thaumarchaeote KM3_23_E01   \n",
       "986  5571865    102415.0    uncultured marine thaumarchaeote SAT1000_48_A08   \n",
       "987  5571850    102415.0    uncultured marine thaumarchaeote SAT1000_10_G06   \n",
       "988  5571611    102415.0     uncultured marine thaumarchaeote AD1000_26_G12   \n",
       "989  5572016    102415.0        uncultured marine thaumarchaeote KM3_65_D04   \n",
       "990  5571969    102415.0       uncultured marine thaumarchaeote KM3_186_C08   \n",
       "991  5571667    102415.0        uncultured marine thaumarchaeote KM3_41_H02   \n",
       "992  5571890    102415.0        uncultured marine thaumarchaeote KM3_52_F05   \n",
       "993  5571807    102415.0     uncultured marine thaumarchaeote AD1000_54_F09   \n",
       "994  5571591    102415.0       uncultured marine thaumarchaeote KM3_175_A05   \n",
       "995  5571756    102415.0        uncultured marine thaumarchaeote KM3_46_E07   \n",
       "996  5571888    102415.0        uncultured marine thaumarchaeote KM3_02_A10   \n",
       "997  5205131    102415.0  thaumarchaeote enrichment culture clone Ec.FBa...   \n",
       "998  5572032    102415.0        uncultured marine thaumarchaeote KM3_53_B02   \n",
       "\n",
       "                   rank                                         sourceinfo  \\\n",
       "0               no rank              silva:0,ncbi:1,worms:1,gbif:0,irmng:0   \n",
       "1               no rank                                        ncbi:131567   \n",
       "2                domain  silva:D37982/#1,ncbi:2157,worms:8,gbif:2,irmng:12   \n",
       "3    no rank - terminal                                  silva:AB302039/#2   \n",
       "4                phylum  silva:D87348/#2,ncbi:651137,worms:559429,irmng...   \n",
       "5    no rank - terminal                                  silva:AB600373/#3   \n",
       "6               no rank                        silva:D87348/#3,ncbi:905826   \n",
       "7               species                    silva:AGBE01001967,ncbi:1089683   \n",
       "8               species                         silva:AF121992,ncbi:105567   \n",
       "9               species                         silva:JF715361,ncbi:360837   \n",
       "10              species                        silva:JN591993,ncbi:1118069   \n",
       "11              species                         silva:AF122001,ncbi:105576   \n",
       "12                order  silva:AY192631/#4,ncbi:205948,worms:573555,irm...   \n",
       "13               family  silva:AY192631/#5,ncbi:205957,worms:573556,gbi...   \n",
       "14                genus  silva:AY192631/#6,ncbi:46769,worms:573557,gbif...   \n",
       "15              species                         silva:JN881616,ncbi:261391   \n",
       "16   no rank - terminal                         silva:DQ397549,ncbi:414004   \n",
       "17              species                         silva:AF421159,ncbi:173517   \n",
       "18              species                         silva:AF420237,ncbi:171716   \n",
       "19              species                         silva:DQ299278,ncbi:375545   \n",
       "20              species  silva:AF083072,ncbi:46770,worms:573558,gbif:59...   \n",
       "21   no rank - terminal                                        ncbi:414005   \n",
       "22   no rank - terminal                                        ncbi:355925   \n",
       "23   no rank - terminal                                        ncbi:375544   \n",
       "24   no rank - terminal                                        ncbi:260466   \n",
       "25              species                                        ncbi:260467   \n",
       "26              species                          silva:AF121098,ncbi:95930   \n",
       "27              species                          silva:AF121093,ncbi:95925   \n",
       "28              species                         silva:EU686625,ncbi:526685   \n",
       "29              species                         silva:EF069380,ncbi:171534   \n",
       "..                  ...                                                ...   \n",
       "969             species                                       ncbi:1238031   \n",
       "970             species                                       ncbi:1237975   \n",
       "971             species                                       ncbi:1456024   \n",
       "972             species                                       ncbi:1456311   \n",
       "973             species                                       ncbi:1455927   \n",
       "974             species                                       ncbi:1237979   \n",
       "975             species                                       ncbi:1456096   \n",
       "976             species                                       ncbi:1456304   \n",
       "977             species                                       ncbi:1455902   \n",
       "978             species                                       ncbi:1456280   \n",
       "979             species                                       ncbi:1456258   \n",
       "980             species                                       ncbi:1238100   \n",
       "981             species                                       ncbi:1455974   \n",
       "982             species                                       ncbi:1238069   \n",
       "983             species                                       ncbi:1456081   \n",
       "984             species                                       ncbi:1238126   \n",
       "985             species                                       ncbi:1456099   \n",
       "986             species                                       ncbi:1456414   \n",
       "987             species                                       ncbi:1456374   \n",
       "988             species                                       ncbi:1455904   \n",
       "989             species                                       ncbi:1456224   \n",
       "990             species                                       ncbi:1456070   \n",
       "991             species                                       ncbi:1456146   \n",
       "992             species                                       ncbi:1456177   \n",
       "993             species                                       ncbi:1455926   \n",
       "994             species                                       ncbi:1456051   \n",
       "995             species                                       ncbi:1456159   \n",
       "996             species                                       ncbi:1455955   \n",
       "997             species                                       ncbi:1238015   \n",
       "998             species                                       ncbi:1456180   \n",
       "\n",
       "                             uniqname                   flags  Unnamed: 7  \n",
       "0                                 NaN                     NaN         NaN  \n",
       "1                                 NaN                     NaN         NaN  \n",
       "2    Archaea (domain silva:D37982/#1)                     NaN         NaN  \n",
       "3                                 NaN                     NaN         NaN  \n",
       "4                                 NaN                     NaN         NaN  \n",
       "5                                 NaN                     NaN         NaN  \n",
       "6                                 NaN                     NaN         NaN  \n",
       "7                                 NaN          sibling_higher         NaN  \n",
       "8                                 NaN          sibling_higher         NaN  \n",
       "9                                 NaN          sibling_higher         NaN  \n",
       "10                                NaN          sibling_higher         NaN  \n",
       "11                                NaN          sibling_higher         NaN  \n",
       "12                                NaN                     NaN         NaN  \n",
       "13                                NaN                     NaN         NaN  \n",
       "14                                NaN                     NaN         NaN  \n",
       "15                                NaN                     NaN         NaN  \n",
       "16                                NaN                     NaN         NaN  \n",
       "17                                NaN                     NaN         NaN  \n",
       "18                                NaN                     NaN         NaN  \n",
       "19                                NaN                     NaN         NaN  \n",
       "20                                NaN                     NaN         NaN  \n",
       "21                                NaN           infraspecific         NaN  \n",
       "22                                NaN           was_container         NaN  \n",
       "23                                NaN           was_container         NaN  \n",
       "24                                NaN           was_container         NaN  \n",
       "25                                NaN  sibling_higher,not_otu         NaN  \n",
       "26                                NaN          sibling_higher         NaN  \n",
       "27                                NaN          sibling_higher         NaN  \n",
       "28                                NaN          sibling_higher         NaN  \n",
       "29                                NaN          sibling_higher         NaN  \n",
       "..                                ...                     ...         ...  \n",
       "969                               NaN           environmental         NaN  \n",
       "970                               NaN           environmental         NaN  \n",
       "971                               NaN   environmental,not_otu         NaN  \n",
       "972                               NaN   environmental,not_otu         NaN  \n",
       "973                               NaN   environmental,not_otu         NaN  \n",
       "974                               NaN           environmental         NaN  \n",
       "975                               NaN   environmental,not_otu         NaN  \n",
       "976                               NaN   environmental,not_otu         NaN  \n",
       "977                               NaN   environmental,not_otu         NaN  \n",
       "978                               NaN   environmental,not_otu         NaN  \n",
       "979                               NaN   environmental,not_otu         NaN  \n",
       "980                               NaN           environmental         NaN  \n",
       "981                               NaN   environmental,not_otu         NaN  \n",
       "982                               NaN           environmental         NaN  \n",
       "983                               NaN   environmental,not_otu         NaN  \n",
       "984                               NaN           environmental         NaN  \n",
       "985                               NaN   environmental,not_otu         NaN  \n",
       "986                               NaN   environmental,not_otu         NaN  \n",
       "987                               NaN   environmental,not_otu         NaN  \n",
       "988                               NaN   environmental,not_otu         NaN  \n",
       "989                               NaN   environmental,not_otu         NaN  \n",
       "990                               NaN   environmental,not_otu         NaN  \n",
       "991                               NaN   environmental,not_otu         NaN  \n",
       "992                               NaN   environmental,not_otu         NaN  \n",
       "993                               NaN   environmental,not_otu         NaN  \n",
       "994                               NaN   environmental,not_otu         NaN  \n",
       "995                               NaN   environmental,not_otu         NaN  \n",
       "996                               NaN   environmental,not_otu         NaN  \n",
       "997                               NaN           environmental         NaN  \n",
       "998                               NaN   environmental,not_otu         NaN  \n",
       "\n",
       "[999 rows x 8 columns]"
      ]
     },
     "execution_count": 5,
     "metadata": {},
     "output_type": "execute_result"
    }
   ],
   "source": [
    "tree_of_life"
   ]
  },
  {
   "cell_type": "markdown",
   "metadata": {},
   "source": [
    "The description of the entries is given here:\n",
    "https://github.com/OpenTreeOfLife/reference-taxonomy/wiki/Interim-taxonomy-file-format"
   ]
  },
  {
   "cell_type": "markdown",
   "metadata": {},
   "source": [
    "## Explore the table"
   ]
  },
  {
   "cell_type": "code",
   "execution_count": 6,
   "metadata": {},
   "outputs": [
    {
     "data": {
      "text/plain": [
       "Index(['uid', 'parent_uid', 'name', 'rank', 'sourceinfo', 'uniqname', 'flags',\n",
       "       'Unnamed: 7'],\n",
       "      dtype='object')"
      ]
     },
     "execution_count": 6,
     "metadata": {},
     "output_type": "execute_result"
    }
   ],
   "source": [
    "tree_of_life.columns"
   ]
  },
  {
   "cell_type": "markdown",
   "metadata": {},
   "source": [
    "Let us drop some columns."
   ]
  },
  {
   "cell_type": "code",
   "execution_count": 7,
   "metadata": {},
   "outputs": [],
   "source": [
    "tree_of_life = tree_of_life.drop(columns=['sourceinfo', 'uniqname', 'flags','Unnamed: 7'])"
   ]
  },
  {
   "cell_type": "code",
   "execution_count": 8,
   "metadata": {},
   "outputs": [
    {
     "data": {
      "text/html": [
       "<div>\n",
       "<style scoped>\n",
       "    .dataframe tbody tr th:only-of-type {\n",
       "        vertical-align: middle;\n",
       "    }\n",
       "\n",
       "    .dataframe tbody tr th {\n",
       "        vertical-align: top;\n",
       "    }\n",
       "\n",
       "    .dataframe thead th {\n",
       "        text-align: right;\n",
       "    }\n",
       "</style>\n",
       "<table border=\"1\" class=\"dataframe\">\n",
       "  <thead>\n",
       "    <tr style=\"text-align: right;\">\n",
       "      <th></th>\n",
       "      <th>uid</th>\n",
       "      <th>parent_uid</th>\n",
       "      <th>name</th>\n",
       "      <th>rank</th>\n",
       "    </tr>\n",
       "  </thead>\n",
       "  <tbody>\n",
       "    <tr>\n",
       "      <th>0</th>\n",
       "      <td>805080</td>\n",
       "      <td>NaN</td>\n",
       "      <td>life</td>\n",
       "      <td>no rank</td>\n",
       "    </tr>\n",
       "    <tr>\n",
       "      <th>1</th>\n",
       "      <td>93302</td>\n",
       "      <td>805080.0</td>\n",
       "      <td>cellular organisms</td>\n",
       "      <td>no rank</td>\n",
       "    </tr>\n",
       "    <tr>\n",
       "      <th>2</th>\n",
       "      <td>996421</td>\n",
       "      <td>93302.0</td>\n",
       "      <td>Archaea</td>\n",
       "      <td>domain</td>\n",
       "    </tr>\n",
       "    <tr>\n",
       "      <th>3</th>\n",
       "      <td>5246114</td>\n",
       "      <td>996421.0</td>\n",
       "      <td>Marine Hydrothermal Vent Group 1(MHVG-1)</td>\n",
       "      <td>no rank - terminal</td>\n",
       "    </tr>\n",
       "    <tr>\n",
       "      <th>4</th>\n",
       "      <td>102415</td>\n",
       "      <td>996421.0</td>\n",
       "      <td>Thaumarchaeota</td>\n",
       "      <td>phylum</td>\n",
       "    </tr>\n",
       "  </tbody>\n",
       "</table>\n",
       "</div>"
      ],
      "text/plain": [
       "       uid  parent_uid                                      name  \\\n",
       "0   805080         NaN                                      life   \n",
       "1    93302    805080.0                        cellular organisms   \n",
       "2   996421     93302.0                                   Archaea   \n",
       "3  5246114    996421.0  Marine Hydrothermal Vent Group 1(MHVG-1)   \n",
       "4   102415    996421.0                            Thaumarchaeota   \n",
       "\n",
       "                 rank  \n",
       "0             no rank  \n",
       "1             no rank  \n",
       "2              domain  \n",
       "3  no rank - terminal  \n",
       "4              phylum  "
      ]
     },
     "execution_count": 8,
     "metadata": {},
     "output_type": "execute_result"
    }
   ],
   "source": [
    "tree_of_life.head()"
   ]
  },
  {
   "cell_type": "markdown",
   "metadata": {},
   "source": [
    "Pandas infered the type of values inside each column (int, float, string and string). The parent_uid column has float values because there was a missing value, converted to `NaN`"
   ]
  },
  {
   "cell_type": "code",
   "execution_count": 9,
   "metadata": {},
   "outputs": [
    {
     "name": "stdout",
     "output_type": "stream",
     "text": [
      "int64 float64\n"
     ]
    }
   ],
   "source": [
    "print(tree_of_life['uid'].dtype, tree_of_life.parent_uid.dtype)"
   ]
  },
  {
   "cell_type": "markdown",
   "metadata": {},
   "source": [
    "How to access individual values."
   ]
  },
  {
   "cell_type": "code",
   "execution_count": 10,
   "metadata": {},
   "outputs": [
    {
     "data": {
      "text/plain": [
       "'life'"
      ]
     },
     "execution_count": 10,
     "metadata": {},
     "output_type": "execute_result"
    }
   ],
   "source": [
    "tree_of_life.iloc[0, 2]"
   ]
  },
  {
   "cell_type": "code",
   "execution_count": 11,
   "metadata": {},
   "outputs": [
    {
     "data": {
      "text/plain": [
       "'life'"
      ]
     },
     "execution_count": 11,
     "metadata": {},
     "output_type": "execute_result"
    }
   ],
   "source": [
    "tree_of_life.loc[0, 'name']"
   ]
  },
  {
   "cell_type": "markdown",
   "metadata": {},
   "source": [
    "**Exercise**: Guess the output of the below line."
   ]
  },
  {
   "cell_type": "code",
   "execution_count": 12,
   "metadata": {},
   "outputs": [],
   "source": [
    "# tree_of_life.uid[0] == tree_of_life.parent_uid[1]"
   ]
  },
  {
   "cell_type": "markdown",
   "metadata": {},
   "source": [
    "Ordering the data."
   ]
  },
  {
   "cell_type": "code",
   "execution_count": 13,
   "metadata": {},
   "outputs": [
    {
     "data": {
      "text/html": [
       "<div>\n",
       "<style scoped>\n",
       "    .dataframe tbody tr th:only-of-type {\n",
       "        vertical-align: middle;\n",
       "    }\n",
       "\n",
       "    .dataframe tbody tr th {\n",
       "        vertical-align: top;\n",
       "    }\n",
       "\n",
       "    .dataframe thead th {\n",
       "        text-align: right;\n",
       "    }\n",
       "</style>\n",
       "<table border=\"1\" class=\"dataframe\">\n",
       "  <thead>\n",
       "    <tr style=\"text-align: right;\">\n",
       "      <th></th>\n",
       "      <th>uid</th>\n",
       "      <th>parent_uid</th>\n",
       "      <th>name</th>\n",
       "      <th>rank</th>\n",
       "    </tr>\n",
       "  </thead>\n",
       "  <tbody>\n",
       "    <tr>\n",
       "      <th>297</th>\n",
       "      <td>5246638</td>\n",
       "      <td>102415.0</td>\n",
       "      <td>AB64A-17</td>\n",
       "      <td>no rank - terminal</td>\n",
       "    </tr>\n",
       "    <tr>\n",
       "      <th>293</th>\n",
       "      <td>5246632</td>\n",
       "      <td>102415.0</td>\n",
       "      <td>AK31</td>\n",
       "      <td>no rank - terminal</td>\n",
       "    </tr>\n",
       "    <tr>\n",
       "      <th>298</th>\n",
       "      <td>5246637</td>\n",
       "      <td>102415.0</td>\n",
       "      <td>AK56</td>\n",
       "      <td>no rank - terminal</td>\n",
       "    </tr>\n",
       "    <tr>\n",
       "      <th>202</th>\n",
       "      <td>5246635</td>\n",
       "      <td>102415.0</td>\n",
       "      <td>AK59</td>\n",
       "      <td>no rank - terminal</td>\n",
       "    </tr>\n",
       "    <tr>\n",
       "      <th>204</th>\n",
       "      <td>5246636</td>\n",
       "      <td>102415.0</td>\n",
       "      <td>AK8</td>\n",
       "      <td>no rank - terminal</td>\n",
       "    </tr>\n",
       "  </tbody>\n",
       "</table>\n",
       "</div>"
      ],
      "text/plain": [
       "         uid  parent_uid      name                rank\n",
       "297  5246638    102415.0  AB64A-17  no rank - terminal\n",
       "293  5246632    102415.0      AK31  no rank - terminal\n",
       "298  5246637    102415.0      AK56  no rank - terminal\n",
       "202  5246635    102415.0      AK59  no rank - terminal\n",
       "204  5246636    102415.0       AK8  no rank - terminal"
      ]
     },
     "execution_count": 13,
     "metadata": {},
     "output_type": "execute_result"
    }
   ],
   "source": [
    "tree_of_life.sort_values(by='name').head()"
   ]
  },
  {
   "cell_type": "markdown",
   "metadata": {},
   "source": [
    "## Operation on the columns"
   ]
  },
  {
   "cell_type": "markdown",
   "metadata": {},
   "source": [
    "Unique values, useful for categories:"
   ]
  },
  {
   "cell_type": "code",
   "execution_count": 14,
   "metadata": {},
   "outputs": [
    {
     "data": {
      "text/plain": [
       "array(['no rank', 'domain', 'no rank - terminal', 'phylum', 'species',\n",
       "       'order', 'family', 'genus', 'class'], dtype=object)"
      ]
     },
     "execution_count": 14,
     "metadata": {},
     "output_type": "execute_result"
    }
   ],
   "source": [
    "tree_of_life['rank'].unique()"
   ]
  },
  {
   "cell_type": "markdown",
   "metadata": {},
   "source": [
    "Selecting only one category."
   ]
  },
  {
   "cell_type": "code",
   "execution_count": 15,
   "metadata": {},
   "outputs": [
    {
     "data": {
      "text/html": [
       "<div>\n",
       "<style scoped>\n",
       "    .dataframe tbody tr th:only-of-type {\n",
       "        vertical-align: middle;\n",
       "    }\n",
       "\n",
       "    .dataframe tbody tr th {\n",
       "        vertical-align: top;\n",
       "    }\n",
       "\n",
       "    .dataframe thead th {\n",
       "        text-align: right;\n",
       "    }\n",
       "</style>\n",
       "<table border=\"1\" class=\"dataframe\">\n",
       "  <thead>\n",
       "    <tr style=\"text-align: right;\">\n",
       "      <th></th>\n",
       "      <th>uid</th>\n",
       "      <th>parent_uid</th>\n",
       "      <th>name</th>\n",
       "      <th>rank</th>\n",
       "    </tr>\n",
       "  </thead>\n",
       "  <tbody>\n",
       "    <tr>\n",
       "      <th>7</th>\n",
       "      <td>5205649</td>\n",
       "      <td>4795965.0</td>\n",
       "      <td>uncultured marine crenarchaeote 'Gulf of Maine'</td>\n",
       "      <td>species</td>\n",
       "    </tr>\n",
       "    <tr>\n",
       "      <th>8</th>\n",
       "      <td>5208050</td>\n",
       "      <td>4795965.0</td>\n",
       "      <td>uncultured marine archaeon DCM858</td>\n",
       "      <td>species</td>\n",
       "    </tr>\n",
       "    <tr>\n",
       "      <th>9</th>\n",
       "      <td>5205092</td>\n",
       "      <td>4795965.0</td>\n",
       "      <td>uncultured marine group I thaumarchaeote</td>\n",
       "      <td>species</td>\n",
       "    </tr>\n",
       "    <tr>\n",
       "      <th>10</th>\n",
       "      <td>5205072</td>\n",
       "      <td>4795965.0</td>\n",
       "      <td>uncultured Nitrosopumilaceae archaeon</td>\n",
       "      <td>species</td>\n",
       "    </tr>\n",
       "    <tr>\n",
       "      <th>11</th>\n",
       "      <td>5208765</td>\n",
       "      <td>4795965.0</td>\n",
       "      <td>uncultured marine archaeon DCM874</td>\n",
       "      <td>species</td>\n",
       "    </tr>\n",
       "  </tbody>\n",
       "</table>\n",
       "</div>"
      ],
      "text/plain": [
       "        uid  parent_uid                                             name  \\\n",
       "7   5205649   4795965.0  uncultured marine crenarchaeote 'Gulf of Maine'   \n",
       "8   5208050   4795965.0                uncultured marine archaeon DCM858   \n",
       "9   5205092   4795965.0         uncultured marine group I thaumarchaeote   \n",
       "10  5205072   4795965.0            uncultured Nitrosopumilaceae archaeon   \n",
       "11  5208765   4795965.0                uncultured marine archaeon DCM874   \n",
       "\n",
       "       rank  \n",
       "7   species  \n",
       "8   species  \n",
       "9   species  \n",
       "10  species  \n",
       "11  species  "
      ]
     },
     "execution_count": 15,
     "metadata": {},
     "output_type": "execute_result"
    }
   ],
   "source": [
    "tree_of_life[tree_of_life['rank'] == 'species'].head()"
   ]
  },
  {
   "cell_type": "markdown",
   "metadata": {},
   "source": [
    "How many species do we have?"
   ]
  },
  {
   "cell_type": "code",
   "execution_count": 16,
   "metadata": {},
   "outputs": [
    {
     "data": {
      "text/plain": [
       "912"
      ]
     },
     "execution_count": 16,
     "metadata": {},
     "output_type": "execute_result"
    }
   ],
   "source": [
    "len(tree_of_life[tree_of_life['rank'] == 'species'])"
   ]
  },
  {
   "cell_type": "code",
   "execution_count": 17,
   "metadata": {},
   "outputs": [
    {
     "data": {
      "text/plain": [
       "species               912\n",
       "no rank - terminal     58\n",
       "no rank                12\n",
       "genus                   8\n",
       "order                   3\n",
       "family                  3\n",
       "domain                  1\n",
       "phylum                  1\n",
       "class                   1\n",
       "Name: rank, dtype: int64"
      ]
     },
     "execution_count": 17,
     "metadata": {},
     "output_type": "execute_result"
    }
   ],
   "source": [
    "tree_of_life['rank'].value_counts()"
   ]
  },
  {
   "cell_type": "markdown",
   "metadata": {},
   "source": [
    "## Building the graph"
   ]
  },
  {
   "cell_type": "markdown",
   "metadata": {},
   "source": [
    "Let us build the adjacency matrix of the graph. For that we need to reorganize the data. First we separate the nodes and their properties from the edges."
   ]
  },
  {
   "cell_type": "code",
   "execution_count": 18,
   "metadata": {},
   "outputs": [],
   "source": [
    "nodes = tree_of_life[['uid', 'name','rank']]\n",
    "edges = tree_of_life[['uid', 'parent_uid']]"
   ]
  },
  {
   "cell_type": "markdown",
   "metadata": {},
   "source": [
    "When using an adjacency matrix, nodes are indexed by their row or column number and not by a `uid`. Let us create a new index for the nodes."
   ]
  },
  {
   "cell_type": "code",
   "execution_count": 19,
   "metadata": {},
   "outputs": [
    {
     "data": {
      "text/html": [
       "<div>\n",
       "<style scoped>\n",
       "    .dataframe tbody tr th:only-of-type {\n",
       "        vertical-align: middle;\n",
       "    }\n",
       "\n",
       "    .dataframe tbody tr th {\n",
       "        vertical-align: top;\n",
       "    }\n",
       "\n",
       "    .dataframe thead th {\n",
       "        text-align: right;\n",
       "    }\n",
       "</style>\n",
       "<table border=\"1\" class=\"dataframe\">\n",
       "  <thead>\n",
       "    <tr style=\"text-align: right;\">\n",
       "      <th></th>\n",
       "      <th>node_idx</th>\n",
       "      <th>uid</th>\n",
       "      <th>name</th>\n",
       "      <th>rank</th>\n",
       "    </tr>\n",
       "  </thead>\n",
       "  <tbody>\n",
       "    <tr>\n",
       "      <th>0</th>\n",
       "      <td>0</td>\n",
       "      <td>805080</td>\n",
       "      <td>life</td>\n",
       "      <td>no rank</td>\n",
       "    </tr>\n",
       "    <tr>\n",
       "      <th>1</th>\n",
       "      <td>1</td>\n",
       "      <td>93302</td>\n",
       "      <td>cellular organisms</td>\n",
       "      <td>no rank</td>\n",
       "    </tr>\n",
       "    <tr>\n",
       "      <th>2</th>\n",
       "      <td>2</td>\n",
       "      <td>996421</td>\n",
       "      <td>Archaea</td>\n",
       "      <td>domain</td>\n",
       "    </tr>\n",
       "    <tr>\n",
       "      <th>3</th>\n",
       "      <td>3</td>\n",
       "      <td>5246114</td>\n",
       "      <td>Marine Hydrothermal Vent Group 1(MHVG-1)</td>\n",
       "      <td>no rank - terminal</td>\n",
       "    </tr>\n",
       "    <tr>\n",
       "      <th>4</th>\n",
       "      <td>4</td>\n",
       "      <td>102415</td>\n",
       "      <td>Thaumarchaeota</td>\n",
       "      <td>phylum</td>\n",
       "    </tr>\n",
       "  </tbody>\n",
       "</table>\n",
       "</div>"
      ],
      "text/plain": [
       "   node_idx      uid                                      name  \\\n",
       "0         0   805080                                      life   \n",
       "1         1    93302                        cellular organisms   \n",
       "2         2   996421                                   Archaea   \n",
       "3         3  5246114  Marine Hydrothermal Vent Group 1(MHVG-1)   \n",
       "4         4   102415                            Thaumarchaeota   \n",
       "\n",
       "                 rank  \n",
       "0             no rank  \n",
       "1             no rank  \n",
       "2              domain  \n",
       "3  no rank - terminal  \n",
       "4              phylum  "
      ]
     },
     "execution_count": 19,
     "metadata": {},
     "output_type": "execute_result"
    }
   ],
   "source": [
    "# Create a column for node index.\n",
    "nodes.reset_index(level=0, inplace=True)\n",
    "nodes = nodes.rename(columns={'index':'node_idx'})\n",
    "nodes.head()"
   ]
  },
  {
   "cell_type": "code",
   "execution_count": 20,
   "metadata": {},
   "outputs": [
    {
     "data": {
      "text/html": [
       "<div>\n",
       "<style scoped>\n",
       "    .dataframe tbody tr th:only-of-type {\n",
       "        vertical-align: middle;\n",
       "    }\n",
       "\n",
       "    .dataframe tbody tr th {\n",
       "        vertical-align: top;\n",
       "    }\n",
       "\n",
       "    .dataframe thead th {\n",
       "        text-align: right;\n",
       "    }\n",
       "</style>\n",
       "<table border=\"1\" class=\"dataframe\">\n",
       "  <thead>\n",
       "    <tr style=\"text-align: right;\">\n",
       "      <th></th>\n",
       "      <th>node_idx</th>\n",
       "    </tr>\n",
       "    <tr>\n",
       "      <th>uid</th>\n",
       "      <th></th>\n",
       "    </tr>\n",
       "  </thead>\n",
       "  <tbody>\n",
       "    <tr>\n",
       "      <th>805080</th>\n",
       "      <td>0</td>\n",
       "    </tr>\n",
       "    <tr>\n",
       "      <th>93302</th>\n",
       "      <td>1</td>\n",
       "    </tr>\n",
       "    <tr>\n",
       "      <th>996421</th>\n",
       "      <td>2</td>\n",
       "    </tr>\n",
       "    <tr>\n",
       "      <th>5246114</th>\n",
       "      <td>3</td>\n",
       "    </tr>\n",
       "    <tr>\n",
       "      <th>102415</th>\n",
       "      <td>4</td>\n",
       "    </tr>\n",
       "  </tbody>\n",
       "</table>\n",
       "</div>"
      ],
      "text/plain": [
       "         node_idx\n",
       "uid              \n",
       "805080          0\n",
       "93302           1\n",
       "996421          2\n",
       "5246114         3\n",
       "102415          4"
      ]
     },
     "execution_count": 20,
     "metadata": {},
     "output_type": "execute_result"
    }
   ],
   "source": [
    "# Create a conversion table from uid to node index.\n",
    "uid2idx = nodes[['node_idx', 'uid']]\n",
    "uid2idx = uid2idx.set_index('uid')\n",
    "uid2idx.head()"
   ]
  },
  {
   "cell_type": "code",
   "execution_count": 21,
   "metadata": {},
   "outputs": [
    {
     "data": {
      "text/html": [
       "<div>\n",
       "<style scoped>\n",
       "    .dataframe tbody tr th:only-of-type {\n",
       "        vertical-align: middle;\n",
       "    }\n",
       "\n",
       "    .dataframe tbody tr th {\n",
       "        vertical-align: top;\n",
       "    }\n",
       "\n",
       "    .dataframe thead th {\n",
       "        text-align: right;\n",
       "    }\n",
       "</style>\n",
       "<table border=\"1\" class=\"dataframe\">\n",
       "  <thead>\n",
       "    <tr style=\"text-align: right;\">\n",
       "      <th></th>\n",
       "      <th>uid</th>\n",
       "      <th>parent_uid</th>\n",
       "    </tr>\n",
       "  </thead>\n",
       "  <tbody>\n",
       "    <tr>\n",
       "      <th>0</th>\n",
       "      <td>805080</td>\n",
       "      <td>NaN</td>\n",
       "    </tr>\n",
       "    <tr>\n",
       "      <th>1</th>\n",
       "      <td>93302</td>\n",
       "      <td>805080.0</td>\n",
       "    </tr>\n",
       "    <tr>\n",
       "      <th>2</th>\n",
       "      <td>996421</td>\n",
       "      <td>93302.0</td>\n",
       "    </tr>\n",
       "    <tr>\n",
       "      <th>3</th>\n",
       "      <td>5246114</td>\n",
       "      <td>996421.0</td>\n",
       "    </tr>\n",
       "    <tr>\n",
       "      <th>4</th>\n",
       "      <td>102415</td>\n",
       "      <td>996421.0</td>\n",
       "    </tr>\n",
       "  </tbody>\n",
       "</table>\n",
       "</div>"
      ],
      "text/plain": [
       "       uid  parent_uid\n",
       "0   805080         NaN\n",
       "1    93302    805080.0\n",
       "2   996421     93302.0\n",
       "3  5246114    996421.0\n",
       "4   102415    996421.0"
      ]
     },
     "execution_count": 21,
     "metadata": {},
     "output_type": "execute_result"
    }
   ],
   "source": [
    "edges.head()"
   ]
  },
  {
   "cell_type": "markdown",
   "metadata": {},
   "source": [
    "Now we are ready to use yet another powerful function of Pandas. Those familiar with SQL will recognize it: the `join` function."
   ]
  },
  {
   "cell_type": "code",
   "execution_count": 22,
   "metadata": {},
   "outputs": [],
   "source": [
    "# Add a new column, matching the uid with the node_idx.\n",
    "edges = edges.join(uid2idx, on='uid')"
   ]
  },
  {
   "cell_type": "code",
   "execution_count": 23,
   "metadata": {},
   "outputs": [],
   "source": [
    "# Do the same with the parent_uid.\n",
    "edges = edges.join(uid2idx, on='parent_uid', rsuffix='_parent')"
   ]
  },
  {
   "cell_type": "code",
   "execution_count": 24,
   "metadata": {},
   "outputs": [],
   "source": [
    "# Drop the uids.\n",
    "edges = edges.drop(columns=['uid','parent_uid'])"
   ]
  },
  {
   "cell_type": "code",
   "execution_count": 25,
   "metadata": {},
   "outputs": [
    {
     "data": {
      "text/html": [
       "<div>\n",
       "<style scoped>\n",
       "    .dataframe tbody tr th:only-of-type {\n",
       "        vertical-align: middle;\n",
       "    }\n",
       "\n",
       "    .dataframe tbody tr th {\n",
       "        vertical-align: top;\n",
       "    }\n",
       "\n",
       "    .dataframe thead th {\n",
       "        text-align: right;\n",
       "    }\n",
       "</style>\n",
       "<table border=\"1\" class=\"dataframe\">\n",
       "  <thead>\n",
       "    <tr style=\"text-align: right;\">\n",
       "      <th></th>\n",
       "      <th>node_idx</th>\n",
       "      <th>node_idx_parent</th>\n",
       "    </tr>\n",
       "  </thead>\n",
       "  <tbody>\n",
       "    <tr>\n",
       "      <th>0</th>\n",
       "      <td>0</td>\n",
       "      <td>NaN</td>\n",
       "    </tr>\n",
       "    <tr>\n",
       "      <th>1</th>\n",
       "      <td>1</td>\n",
       "      <td>0.0</td>\n",
       "    </tr>\n",
       "    <tr>\n",
       "      <th>2</th>\n",
       "      <td>2</td>\n",
       "      <td>1.0</td>\n",
       "    </tr>\n",
       "    <tr>\n",
       "      <th>3</th>\n",
       "      <td>3</td>\n",
       "      <td>2.0</td>\n",
       "    </tr>\n",
       "    <tr>\n",
       "      <th>4</th>\n",
       "      <td>4</td>\n",
       "      <td>2.0</td>\n",
       "    </tr>\n",
       "  </tbody>\n",
       "</table>\n",
       "</div>"
      ],
      "text/plain": [
       "   node_idx  node_idx_parent\n",
       "0         0              NaN\n",
       "1         1              0.0\n",
       "2         2              1.0\n",
       "3         3              2.0\n",
       "4         4              2.0"
      ]
     },
     "execution_count": 25,
     "metadata": {},
     "output_type": "execute_result"
    }
   ],
   "source": [
    "edges.head()"
   ]
  },
  {
   "cell_type": "markdown",
   "metadata": {},
   "source": [
    "The above table is a list of edges connecting nodes and their parents."
   ]
  },
  {
   "cell_type": "markdown",
   "metadata": {},
   "source": [
    "## Building the (weighted) adjacency matrix\n",
    "\n",
    "We will use numpy to build this matrix. Note that we don't have edge weights here, so our graph is going to be unweighted."
   ]
  },
  {
   "cell_type": "code",
   "execution_count": 26,
   "metadata": {},
   "outputs": [],
   "source": [
    "n_nodes = len(nodes)\n",
    "adjacency = np.zeros((n_nodes, n_nodes), dtype=int)"
   ]
  },
  {
   "cell_type": "code",
   "execution_count": 27,
   "metadata": {},
   "outputs": [],
   "source": [
    "for idx, row in edges.iterrows():\n",
    "    if np.isnan(row.node_idx_parent):\n",
    "        continue\n",
    "    i, j = int(row.node_idx), int(row.node_idx_parent)\n",
    "    adjacency[i, j] = 1\n",
    "    adjacency[j, i] = 1"
   ]
  },
  {
   "cell_type": "code",
   "execution_count": 28,
   "metadata": {},
   "outputs": [
    {
     "data": {
      "text/plain": [
       "array([[0, 1, 0, 0, 0, 0, 0, 0, 0, 0, 0, 0, 0, 0, 0],\n",
       "       [1, 0, 1, 0, 0, 0, 0, 0, 0, 0, 0, 0, 0, 0, 0],\n",
       "       [0, 1, 0, 1, 1, 0, 0, 0, 0, 0, 0, 0, 0, 0, 0],\n",
       "       [0, 0, 1, 0, 0, 0, 0, 0, 0, 0, 0, 0, 0, 0, 0],\n",
       "       [0, 0, 1, 0, 0, 1, 1, 0, 0, 0, 0, 0, 0, 0, 0],\n",
       "       [0, 0, 0, 0, 1, 0, 0, 0, 0, 0, 0, 0, 0, 0, 0],\n",
       "       [0, 0, 0, 0, 1, 0, 0, 1, 1, 1, 1, 1, 1, 0, 0],\n",
       "       [0, 0, 0, 0, 0, 0, 1, 0, 0, 0, 0, 0, 0, 0, 0],\n",
       "       [0, 0, 0, 0, 0, 0, 1, 0, 0, 0, 0, 0, 0, 0, 0],\n",
       "       [0, 0, 0, 0, 0, 0, 1, 0, 0, 0, 0, 0, 0, 0, 0],\n",
       "       [0, 0, 0, 0, 0, 0, 1, 0, 0, 0, 0, 0, 0, 0, 0],\n",
       "       [0, 0, 0, 0, 0, 0, 1, 0, 0, 0, 0, 0, 0, 0, 0],\n",
       "       [0, 0, 0, 0, 0, 0, 1, 0, 0, 0, 0, 0, 0, 1, 0],\n",
       "       [0, 0, 0, 0, 0, 0, 0, 0, 0, 0, 0, 0, 1, 0, 1],\n",
       "       [0, 0, 0, 0, 0, 0, 0, 0, 0, 0, 0, 0, 0, 1, 0]])"
      ]
     },
     "execution_count": 28,
     "metadata": {},
     "output_type": "execute_result"
    }
   ],
   "source": [
    "adjacency[:15, :15]"
   ]
  },
  {
   "cell_type": "markdown",
   "metadata": {},
   "source": [
    "Congratulations, you have built the adjacency matrix!"
   ]
  },
  {
   "cell_type": "markdown",
   "metadata": {},
   "source": [
    "## Graph visualization\n",
    "\n",
    "To conclude, let us visualize the graph. We will use the python module networkx."
   ]
  },
  {
   "cell_type": "code",
   "execution_count": 29,
   "metadata": {},
   "outputs": [],
   "source": [
    "# A simple command to create the graph from the adjacency matrix.\n",
    "graph = nx.from_numpy_array(adjacency)"
   ]
  },
  {
   "cell_type": "markdown",
   "metadata": {},
   "source": [
    "In addition, let us add some attributes to the nodes:"
   ]
  },
  {
   "cell_type": "code",
   "execution_count": 30,
   "metadata": {},
   "outputs": [],
   "source": [
    "node_props = nodes.to_dict()"
   ]
  },
  {
   "cell_type": "code",
   "execution_count": 31,
   "metadata": {},
   "outputs": [],
   "source": [
    "for key in node_props:\n",
    "    # print(key, node_props[key])\n",
    "    nx.set_node_attributes(graph, node_props[key], key)"
   ]
  },
  {
   "cell_type": "markdown",
   "metadata": {},
   "source": [
    "Let us check if it is correctly recorded:"
   ]
  },
  {
   "cell_type": "code",
   "execution_count": 32,
   "metadata": {},
   "outputs": [
    {
     "data": {
      "text/plain": [
       "{'node_idx': 1, 'uid': 93302, 'name': 'cellular organisms', 'rank': 'no rank'}"
      ]
     },
     "execution_count": 32,
     "metadata": {},
     "output_type": "execute_result"
    }
   ],
   "source": [
    "graph.node[1]"
   ]
  },
  {
   "cell_type": "markdown",
   "metadata": {},
   "source": [
    "Draw the graph with two different [layout algorithms](https://en.wikipedia.org/wiki/Graph_drawing#Layout_methods)."
   ]
  },
  {
   "cell_type": "code",
   "execution_count": 33,
   "metadata": {},
   "outputs": [
    {
     "name": "stderr",
     "output_type": "stream",
     "text": [
      "/home/michael/.conda/envs/ntds_2018/lib/python3.6/site-packages/networkx/drawing/nx_pylab.py:611: MatplotlibDeprecationWarning: isinstance(..., numbers.Number)\n",
      "  if cb.is_numlike(alpha):\n"
     ]
    },
    {
     "data": {
      "image/png": "[encoded data removed]",
      "text/plain": [
       "<Figure size 432x288 with 1 Axes>"
      ]
     },
     "metadata": {},
     "output_type": "display_data"
    }
   ],
   "source": [
    "nx.draw_spectral(graph)"
   ]
  },
  {
   "cell_type": "code",
   "execution_count": 34,
   "metadata": {},
   "outputs": [
    {
     "name": "stderr",
     "output_type": "stream",
     "text": [
      "/home/michael/.conda/envs/ntds_2018/lib/python3.6/site-packages/networkx/drawing/nx_pylab.py:611: MatplotlibDeprecationWarning: isinstance(..., numbers.Number)\n",
      "  if cb.is_numlike(alpha):\n"
     ]
    },
    {
     "data": {
      "image/png": "[encoded data removed]",
      "text/plain": [
       "<Figure size 432x288 with 1 Axes>"
      ]
     },
     "metadata": {},
     "output_type": "display_data"
    }
   ],
   "source": [
    "nx.draw_spring(graph)"
   ]
  },
  {
   "cell_type": "markdown",
   "metadata": {},
   "source": [
    "Save the graph to disk in the `gexf` format, readable by gephi and other tools that manipulate graphs. You may now explore the graph using gephi and compare the visualizations."
   ]
  },
  {
   "cell_type": "code",
   "execution_count": 35,
   "metadata": {},
   "outputs": [],
   "source": [
    "nx.write_gexf(graph, 'tree_of_life.gexf')"
   ]
  }
 ],
 "metadata": {
  "kernelspec": {
   "display_name": "Python 3",
   "language": "python",
   "name": "python3"
  },
  "language_info": {
   "codemirror_mode": {
    "name": "ipython",
    "version": 3
   },
   "file_extension": ".py",
   "mimetype": "text/x-python",
   "name": "python",
   "nbconvert_exporter": "python",
   "pygments_lexer": "ipython3",
   "version": "3.6.5"
  }
 },
 "nbformat": 4,
 "nbformat_minor": 2
}
